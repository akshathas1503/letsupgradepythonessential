{
 "cells": [
  {
   "cell_type": "code",
   "execution_count": 33,
   "metadata": {},
   "outputs": [
    {
     "name": "stdout",
     "output_type": "stream",
     "text": [
      "The output: {'ftp': 21, 'ssh': 22, 'telnet': 23, 'http': 80}\n"
     ]
    }
   ],
   "source": [
    "\"\"\"Key to value and value to key\"\"\"\n",
    "port1 = {21:\"FTP\",22:\"SSH\",23:\"telnet\",80:\"http\"} \n",
    "port2 ={value:key for key,value in port1.items()}\n",
    "print(\"The output:\",port2)"
   ]
  },
  {
   "cell_type": "code",
   "execution_count": 39,
   "metadata": {},
   "outputs": [
    {
     "name": "stdout",
     "output_type": "stream",
     "text": [
      "[3, 7, 11, 9]\n"
     ]
    }
   ],
   "source": [
    "\"\"\"sum of tuple in the list\"\"\"\n",
    "list1=[(1,2),(3,4),(5,6),(4,5)]\n",
    "res=[]\n",
    "for each in range(0,len(list1)):\n",
    "    a,b=list1[each]\n",
    "    res.append(a+b)\n",
    "print(res)"
   ]
  },
  {
   "cell_type": "code",
   "execution_count": 40,
   "metadata": {},
   "outputs": [
    {
     "name": "stdout",
     "output_type": "stream",
     "text": [
      "[1, 2, 3, 1, 2, 'a', 'hit', 'less']\n"
     ]
    }
   ],
   "source": [
    "\"\"\"making as one list\"\"\"\n",
    "list1=[(1,2,3),[1,2],['a','hit','less']]\n",
    "list2=[]\n",
    "list2=[i for each in list1 for i in each]\n",
    "print (list2)"
   ]
  }
 ],
 "metadata": {
  "kernelspec": {
   "display_name": "Python 3",
   "language": "python",
   "name": "python3"
  },
  "language_info": {
   "codemirror_mode": {
    "name": "ipython",
    "version": 3
   },
   "file_extension": ".py",
   "mimetype": "text/x-python",
   "name": "python",
   "nbconvert_exporter": "python",
   "pygments_lexer": "ipython3",
   "version": "3.7.6"
  }
 },
 "nbformat": 4,
 "nbformat_minor": 4
}
